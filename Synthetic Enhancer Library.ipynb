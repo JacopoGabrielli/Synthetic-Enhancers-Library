{
 "cells": [
  {
   "cell_type": "code",
   "execution_count": 132,
   "metadata": {},
   "outputs": [],
   "source": [
    "import pandas as pd\n",
    "import numpy as np"
   ]
  },
  {
   "cell_type": "code",
   "execution_count": 133,
   "metadata": {},
   "outputs": [],
   "source": [
    "df = pd.read_csv(\"Synthetic Enhancer Library.csv\") #Download or copy Syntehtic Enhancer Library.csv from the same GitHub repository."
   ]
  },
  {
   "cell_type": "code",
   "execution_count": 134,
   "metadata": {
    "scrolled": true
   },
   "outputs": [],
   "source": [
    "#Save keys and values in iterable lists.\n",
    "c2c12_tfbs = {}\n",
    "keys = list(df.iloc[:, 0])\n",
    "values = list(df.iloc[:, 1])"
   ]
  },
  {
   "cell_type": "code",
   "execution_count": 135,
   "metadata": {},
   "outputs": [],
   "source": [
    "#Set enhancer size to 50bp for ease of cloning (order as oligos). \n",
    "enh_size = 50\n",
    "lib_size = 100\n",
    "enh_lib = {}\n",
    "for i in range(lib_size): \n",
    "    enh = \"\"\n",
    "    enh_k = \"\"\n",
    "    while len(enh) <enh_size: \n",
    "        r_num = np.random.randint(0,4)\n",
    "        enh += values[r_num]\n",
    "        enh_k += keys[r_num]\n",
    "    enh_lib.update({enh_k : enh})"
   ]
  },
  {
   "cell_type": "code",
   "execution_count": 136,
   "metadata": {},
   "outputs": [],
   "source": [
    "#Turn dictionary into pandas and then to a .csv file. \n",
    "to_export = pd.DataFrame.from_dict(enh_lib, orient = \"index\") \n",
    "to_export.to_csv (r'Enh_Lib_s20_len100.csv', index = True, header=False)"
   ]
  },
  {
   "cell_type": "code",
   "execution_count": 137,
   "metadata": {},
   "outputs": [
    {
     "name": "stdout",
     "output_type": "stream",
     "text": [
      "{'CEBPB': 0.23, 'FOSL1': 0.259, 'MYOD1': 0.241, 'MYOG': 0.27}\n"
     ]
    }
   ],
   "source": [
    "#Make sure there is no excessive bias for a specific transcription factor. \n",
    "seq_div = {}\n",
    "for key in keys: \n",
    "    seq_div[key] = 0\n",
    "    \n",
    "for i in enh_lib: \n",
    "    for e in keys: \n",
    "        n = i.count(e)\n",
    "        seq_div[e] += n\n",
    "        \n",
    "total = 0\n",
    "\n",
    "for i in seq_div: \n",
    "    total += seq_div[i]\n",
    "for i in seq_div: \n",
    "    seq_div[i] = round(seq_div[i]/total, 3)\n",
    "print(seq_div)\n",
    "\n"
   ]
  },
  {
   "cell_type": "code",
   "execution_count": null,
   "metadata": {},
   "outputs": [],
   "source": []
  }
 ],
 "metadata": {
  "kernelspec": {
   "display_name": "Python 3",
   "language": "python",
   "name": "python3"
  },
  "language_info": {
   "codemirror_mode": {
    "name": "ipython",
    "version": 3
   },
   "file_extension": ".py",
   "mimetype": "text/x-python",
   "name": "python",
   "nbconvert_exporter": "python",
   "pygments_lexer": "ipython3",
   "version": "3.8.5"
  }
 },
 "nbformat": 4,
 "nbformat_minor": 4
}
